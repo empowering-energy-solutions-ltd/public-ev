{
 "cells": [
  {
   "cell_type": "code",
   "execution_count": 1,
   "metadata": {},
   "outputs": [],
   "source": [
    "%load_ext autoreload\n",
    "%autoreload 2"
   ]
  },
  {
   "cell_type": "code",
   "execution_count": 2,
   "metadata": {},
   "outputs": [],
   "source": [
    "import sys\n",
    "sys.path.insert(0, '..//')"
   ]
  },
  {
   "cell_type": "code",
   "execution_count": 3,
   "metadata": {},
   "outputs": [],
   "source": [
    "import pandas as pd\n",
    "\n",
    "from ev_model.models import controller, bricks, sim_functions\n",
    "from ev_model.data import enums\n",
    "from e2slib.analysis import scenario, comparison, site, location\n",
    "from e2slib.utillib import dummy_data\n",
    "from ev_model.models import sim_functions, bricks, controller\n",
    "\n",
    "TARGET_YEAR = 2022\n"
   ]
  },
  {
   "attachments": {},
   "cell_type": "markdown",
   "metadata": {},
   "source": [
    "# Generate dummy data\n",
    "\n",
    "`e2slib` has a useful tool for generating dummy data. We'll use this to create the necessary datasets for our EV Charging simulation. \n",
    "\n",
    "Each dataset can be viewed below so your own data can be structured to match in case you'd like to use the tool."
   ]
  },
  {
   "cell_type": "code",
   "execution_count": 4,
   "metadata": {},
   "outputs": [
    {
     "name": "stderr",
     "output_type": "stream",
     "text": [
      "/var/folders/f1/6qxrz_6953q6dmnstvb12x540000gn/T/ipykernel_49467/2835705993.py:1: FutureWarning: 'T' is deprecated and will be removed in a future version, please use 'min' instead.\n",
      "  timesteps_array = pd.date_range(start='2022-01-01',\n"
     ]
    }
   ],
   "source": [
    "timesteps_array = pd.date_range(start='2022-01-01',\n",
    "                                end='2022-12-31 23:59',\n",
    "                                freq='30T',\n",
    "                                tz='UTC').to_numpy()\n",
    "import_header = pd.MultiIndex.from_tuples([('peak_site_import_electricity', 'kW')\n",
    "                                        ])\n",
    "\n",
    "dummy_site_demand = dummy_data.create_dummy_site_demand(TARGET_YEAR)\n",
    "dummy_prices = dummy_data.generate_dummy_price_profile(TARGET_YEAR)\n",
    "dummy_carbon = dummy_data.generate_dummy_carbon_profile(TARGET_YEAR)\n",
    "dummy_import_lim = pd.DataFrame(index=dummy_site_demand.index,\n",
    "                                columns=import_header)\n",
    "dummy_import_lim[import_header] = 150 # Set a uniform import limit of 150kW"
   ]
  },
  {
   "cell_type": "code",
   "execution_count": 5,
   "metadata": {},
   "outputs": [
    {
     "data": {
      "text/html": [
       "<div>\n",
       "<style scoped>\n",
       "    .dataframe tbody tr th:only-of-type {\n",
       "        vertical-align: middle;\n",
       "    }\n",
       "\n",
       "    .dataframe tbody tr th {\n",
       "        vertical-align: top;\n",
       "    }\n",
       "\n",
       "    .dataframe thead th {\n",
       "        text-align: right;\n",
       "    }\n",
       "</style>\n",
       "<table border=\"1\" class=\"dataframe\">\n",
       "  <thead>\n",
       "    <tr style=\"text-align: right;\">\n",
       "      <th></th>\n",
       "      <th>Site energy [kWh]</th>\n",
       "    </tr>\n",
       "  </thead>\n",
       "  <tbody>\n",
       "    <tr>\n",
       "      <th>2022-01-01 00:00:00+00:00</th>\n",
       "      <td>10</td>\n",
       "    </tr>\n",
       "    <tr>\n",
       "      <th>2022-01-01 00:30:00+00:00</th>\n",
       "      <td>1</td>\n",
       "    </tr>\n",
       "    <tr>\n",
       "      <th>2022-01-01 01:00:00+00:00</th>\n",
       "      <td>0</td>\n",
       "    </tr>\n",
       "    <tr>\n",
       "      <th>2022-01-01 01:30:00+00:00</th>\n",
       "      <td>4</td>\n",
       "    </tr>\n",
       "    <tr>\n",
       "      <th>2022-01-01 02:00:00+00:00</th>\n",
       "      <td>3</td>\n",
       "    </tr>\n",
       "  </tbody>\n",
       "</table>\n",
       "</div>"
      ],
      "text/plain": [
       "                           Site energy [kWh]\n",
       "2022-01-01 00:00:00+00:00                 10\n",
       "2022-01-01 00:30:00+00:00                  1\n",
       "2022-01-01 01:00:00+00:00                  0\n",
       "2022-01-01 01:30:00+00:00                  4\n",
       "2022-01-01 02:00:00+00:00                  3"
      ]
     },
     "execution_count": 5,
     "metadata": {},
     "output_type": "execute_result"
    }
   ],
   "source": [
    "dummy_site_demand.head()"
   ]
  },
  {
   "cell_type": "code",
   "execution_count": 6,
   "metadata": {},
   "outputs": [
    {
     "data": {
      "text/html": [
       "<div>\n",
       "<style scoped>\n",
       "    .dataframe tbody tr th:only-of-type {\n",
       "        vertical-align: middle;\n",
       "    }\n",
       "\n",
       "    .dataframe tbody tr th {\n",
       "        vertical-align: top;\n",
       "    }\n",
       "\n",
       "    .dataframe thead tr th {\n",
       "        text-align: left;\n",
       "    }\n",
       "</style>\n",
       "<table border=\"1\" class=\"dataframe\">\n",
       "  <thead>\n",
       "    <tr>\n",
       "      <th></th>\n",
       "      <th>import_electricity_prices</th>\n",
       "    </tr>\n",
       "    <tr>\n",
       "      <th></th>\n",
       "      <th>GBP/kWh</th>\n",
       "    </tr>\n",
       "  </thead>\n",
       "  <tbody>\n",
       "    <tr>\n",
       "      <th>2022-01-01 00:00:00+00:00</th>\n",
       "      <td>0.14351</td>\n",
       "    </tr>\n",
       "    <tr>\n",
       "      <th>2022-01-01 00:30:00+00:00</th>\n",
       "      <td>0.14351</td>\n",
       "    </tr>\n",
       "    <tr>\n",
       "      <th>2022-01-01 01:00:00+00:00</th>\n",
       "      <td>0.14351</td>\n",
       "    </tr>\n",
       "    <tr>\n",
       "      <th>2022-01-01 01:30:00+00:00</th>\n",
       "      <td>0.14351</td>\n",
       "    </tr>\n",
       "    <tr>\n",
       "      <th>2022-01-01 02:00:00+00:00</th>\n",
       "      <td>0.14351</td>\n",
       "    </tr>\n",
       "  </tbody>\n",
       "</table>\n",
       "</div>"
      ],
      "text/plain": [
       "                          import_electricity_prices\n",
       "                                            GBP/kWh\n",
       "2022-01-01 00:00:00+00:00                   0.14351\n",
       "2022-01-01 00:30:00+00:00                   0.14351\n",
       "2022-01-01 01:00:00+00:00                   0.14351\n",
       "2022-01-01 01:30:00+00:00                   0.14351\n",
       "2022-01-01 02:00:00+00:00                   0.14351"
      ]
     },
     "execution_count": 6,
     "metadata": {},
     "output_type": "execute_result"
    }
   ],
   "source": [
    "dummy_prices.head()"
   ]
  },
  {
   "cell_type": "code",
   "execution_count": 7,
   "metadata": {},
   "outputs": [
    {
     "data": {
      "text/html": [
       "<div>\n",
       "<style scoped>\n",
       "    .dataframe tbody tr th:only-of-type {\n",
       "        vertical-align: middle;\n",
       "    }\n",
       "\n",
       "    .dataframe tbody tr th {\n",
       "        vertical-align: top;\n",
       "    }\n",
       "\n",
       "    .dataframe thead th {\n",
       "        text-align: right;\n",
       "    }\n",
       "</style>\n",
       "<table border=\"1\" class=\"dataframe\">\n",
       "  <thead>\n",
       "    <tr style=\"text-align: right;\">\n",
       "      <th></th>\n",
       "      <th>actual</th>\n",
       "    </tr>\n",
       "  </thead>\n",
       "  <tbody>\n",
       "    <tr>\n",
       "      <th>2022-01-01 00:00:00+00:00</th>\n",
       "      <td>180.496376</td>\n",
       "    </tr>\n",
       "    <tr>\n",
       "      <th>2022-01-01 00:30:00+00:00</th>\n",
       "      <td>183.712530</td>\n",
       "    </tr>\n",
       "    <tr>\n",
       "      <th>2022-01-01 01:00:00+00:00</th>\n",
       "      <td>187.074477</td>\n",
       "    </tr>\n",
       "    <tr>\n",
       "      <th>2022-01-01 01:30:00+00:00</th>\n",
       "      <td>190.993198</td>\n",
       "    </tr>\n",
       "    <tr>\n",
       "      <th>2022-01-01 02:00:00+00:00</th>\n",
       "      <td>195.627866</td>\n",
       "    </tr>\n",
       "  </tbody>\n",
       "</table>\n",
       "</div>"
      ],
      "text/plain": [
       "                               actual\n",
       "2022-01-01 00:00:00+00:00  180.496376\n",
       "2022-01-01 00:30:00+00:00  183.712530\n",
       "2022-01-01 01:00:00+00:00  187.074477\n",
       "2022-01-01 01:30:00+00:00  190.993198\n",
       "2022-01-01 02:00:00+00:00  195.627866"
      ]
     },
     "execution_count": 7,
     "metadata": {},
     "output_type": "execute_result"
    }
   ],
   "source": [
    "dummy_carbon.head()"
   ]
  },
  {
   "attachments": {},
   "cell_type": "markdown",
   "metadata": {},
   "source": [
    "# Demo scenario"
   ]
  },
  {
   "attachments": {},
   "cell_type": "markdown",
   "metadata": {},
   "source": [
    "Now we will use the above dummy data along with our simulated EV charging system to create 3 controlled charging systems optimised for power demand limits, carbon emissions and costs."
   ]
  },
  {
   "attachments": {},
   "cell_type": "markdown",
   "metadata": {},
   "source": [
    "## Creating EVs & chargers for optimization\n",
    "\n",
    "First we need to create our EVs and chargers to create our complete system.\n",
    "\n",
    "In the cell below we create a list of EV objects using the `sim_functions.create_multiple_EVs()` function which has the following arguments: \n",
    "- `nb_evs`: The number of EVs to create.\n",
    "- `sim_year`: The year we're simulating.\n",
    "- `list_of_days`: Days of the week that charging will occur. The example below has a standard Mon-Fri business days (Monday = 0, Friday = 4).\n",
    "- `min_battery_size`: EV battery sizes vary from model to model. The size is measured in kWh, our example is 100kWh minimum.\n",
    "- `max_battery_size`: EV battery sizes vary from model to model. The size is measured in kWh, our example is 100kWh maximum.\n",
    "\n",
    "We then set the percentage battery state to set charge amount using `sim_functions.set_fleet_charging_amount()`. In a more advanced simulation you'd more than likely want this to be variable across your different EVs.\n",
    "\n",
    "We can then create our list of chargers. This can be done using `sim_functions.create_multiple_chargers()` and has the following arguments:\n",
    "- `list_evs`: The list of EVs we've just created.\n",
    "- `sim_year`: The year we're simulating.\n",
    "- `charger_output`: The maximum output of our chargers measured in kW.\n",
    "\n",
    "This simulates that each charger is connected to a single EV. this mean that if you have a system that has multiple charging ports to a single charger you need to match the `charger_output` to the output of each charging port as if they're individual chargers.\n",
    "\n",
    "For example, if a 22kW charger has 2 ports and shares this power when 2 vehicles are connected that means that you'd have a `charger_output` of 11kW."
   ]
  },
  {
   "cell_type": "code",
   "execution_count": 8,
   "metadata": {},
   "outputs": [],
   "source": [
    "list_evs = sim_functions.create_multiple_EVs(10, TARGET_YEAR, [0, 1, 2, 3],\n",
    "                                             100, 100)\n",
    "\n",
    "sim_functions.set_fleet_charging_amount(list_evs, 0.3)\n",
    "\n",
    "dict_chargers = sim_functions.create_multiple_chargers(list_evs, TARGET_YEAR,\n",
    "                                                       22)"
   ]
  },
  {
   "cell_type": "markdown",
   "metadata": {},
   "source": [
    "## Create a basic EV Charging system\n",
    "\n",
    "Now we can create the EV system object with just the `dict_chargers` and `TARGET_YEAR` values. From here, we can run a default simulation that assumes that every day each EV will need to be charged 30% and they'll be charged as soon as possible without consideration for power import limits."
   ]
  },
  {
   "cell_type": "code",
   "execution_count": 9,
   "metadata": {},
   "outputs": [
    {
     "data": {
      "text/plain": [
       "<Axes: xlabel='TIMESTEP'>"
      ]
     },
     "execution_count": 9,
     "metadata": {},
     "output_type": "execute_result"
    },
    {
     "data": {
      "image/png": "[encoded data removed]",
      "text/plain": [
       "<Figure size 640x480 with 1 Axes>"
      ]
     },
     "metadata": {},
     "output_type": "display_data"
    }
   ],
   "source": [
    "ev_system = sim_functions.create_ev_system(TARGET_YEAR, dict_chargers)\n",
    "\n",
    "ev_system.run_default_simulation()\n",
    "\n",
    "ev_system.additional_demand.plot()"
   ]
  },
  {
   "cell_type": "markdown",
   "metadata": {},
   "source": [
    "#### Example of the charging profile\n",
    "\n",
    "We can view how the EVs are charging by accessing the `.get_recorded_data_from_evs()` function for the charger object, an example is shown below highlighting a few things.\n",
    "1. The EVs are plugged in Monday to Friday between 9 and 5.\n",
    "2. The energy input for a basic optimisation starts as soon as the EV is plugged in and ends after the first timestep. This is due to the EV being fully charged within this period."
   ]
  },
  {
   "cell_type": "code",
   "execution_count": 10,
   "metadata": {},
   "outputs": [
    {
     "data": {
      "text/plain": [
       "<Axes: xlabel='TIMESTEP'>"
      ]
     },
     "execution_count": 10,
     "metadata": {},
     "output_type": "execute_result"
    },
    {
     "data": {
      "image/png": "[encoded data removed]",
      "text/plain": [
       "<Figure size 640x480 with 1 Axes>"
      ]
     },
     "metadata": {},
     "output_type": "display_data"
    }
   ],
   "source": [
    "dict_chargers['Charger_1'].get_recorded_data_from_evs().head(300).plot()"
   ]
  },
  {
   "attachments": {},
   "cell_type": "markdown",
   "metadata": {},
   "source": [
    "# Optimising charging\n",
    "\n",
    "Now we can generate an optimized site using `controller.Optimized_Sites()`. This takes all the variables we've already created:\n",
    "- `timesteps`: A numpy array of half-hourly datetime values for the simulation period\n",
    "- `site_electricity_demand`: Your site energy consumption data, our `dummy_site_demand`.\n",
    "- `carbon_dataf`: Our carbon intensity data, this can be found online for your region.\n",
    "- `price_dataf`: The price profile for your energy consumption.\n",
    "- `dict_of_chargers`: The dictionary of chargers, as created above.\n",
    "- `site_data_recorder`: A site `bricks.TimeseriesRecorder()` object.\n",
    "- `max_import_demand`: The sites import demand limit as found on your sites energy bills. This maybe uniform at all times or maybe variable.\n",
    "\n",
    "All control optimizers can now be executed using `Optimized_Sites.run_all_control_methods()` which generates a dictionary of each controlled site type, they're named `Basic`, `Emission` and `Price` to represent each different control method currently in use. "
   ]
  },
  {
   "cell_type": "code",
   "execution_count": 39,
   "metadata": {},
   "outputs": [
    {
     "name": "stdout",
     "output_type": "stream",
     "text": [
      "The site demand is 208905 kWh and max import 80.0 kW\n",
      "The site demand is 208905 kWh and max import 80.0 kW\n",
      "The site demand is 208905 kWh and max import 80.0 kW\n",
      "PV_OPTIMIZER could not be executed as profile was not supplied.\n"
     ]
    }
   ],
   "source": [
    "site_data_recorder = bricks.TimeserieRecorder(dummy_site_demand.index,\n",
    "                                              list(enums.SiteData))\n",
    "\n",
    "test_optimizer = controller.Optimized_Sites(timesteps=timesteps_array, site_electricity_demand=dummy_site_demand,\n",
    "                                            carbon_dataf = dummy_carbon, price_dataf=dummy_prices,\n",
    "                                            dict_of_chargers = dict_chargers, site_data_recorder = site_data_recorder,\n",
    "                                            max_import_demand = dummy_import_lim)\n",
    "dict_of_sites = test_optimizer.run_all_control_methods()"
   ]
  },
  {
   "cell_type": "markdown",
   "metadata": {},
   "source": [
    "### Example charging profile from the price optimisation.\n",
    "\n",
    "As you can see in the cell below on both days charging stops when costs increase. It then starts again after the price of energy drops again."
   ]
  },
  {
   "cell_type": "code",
   "execution_count": 40,
   "metadata": {},
   "outputs": [
    {
     "data": {
      "image/png": "[encoded data removed]",
      "text/plain": [
       "<Figure size 640x480 with 1 Axes>"
      ]
     },
     "metadata": {},
     "output_type": "display_data"
    }
   ],
   "source": [
    "ax = dict_of_sites['Price'].get_recorded_data_from_chargers().iloc[100:200].plot(kind=\"area\", stacked=True)\n",
    "ax.legend().remove()"
   ]
  },
  {
   "attachments": {},
   "cell_type": "markdown",
   "metadata": {},
   "source": [
    "# Scenario Comparison\n",
    "\n",
    "We can now use `e2slib.scenario.Senario()` to compare our differently optimised systems. Each system is loaded into its own individual scenario obj with the price, carbon and a `site.Site()` object which contains the location object, assets and site demand.\n",
    "\n",
    "We can then use the `e2slib.comparison.ScenarioComparison()` object to compare the different optimised systems against the current system which doesn't have EV. By doing so we can see how different optimisations effect energy costs and emissions. You can also see things such as the capital cost of the installation, peak site demand changes and the annual additional energy demands due to the EV system."
   ]
  },
  {
   "cell_type": "code",
   "execution_count": 41,
   "metadata": {},
   "outputs": [
    {
     "name": "stdout",
     "output_type": "stream",
     "text": [
      "The results will be stored at:\n",
      "/Users/rhysjones/Library/CloudStorage/GoogleDrive-rhys.jones@e2s.energy/My Drive/ev\n",
      "Current system\n",
      "The results will be stored at:\n",
      "/Users/rhysjones/Library/CloudStorage/GoogleDrive-rhys.jones@e2s.energy/My Drive/ev\n",
      "Basic optimisation\n",
      "The results will be stored at:\n",
      "/Users/rhysjones/Library/CloudStorage/GoogleDrive-rhys.jones@e2s.energy/My Drive/ev\n",
      "Emission optimisation\n",
      "The results will be stored at:\n",
      "/Users/rhysjones/Library/CloudStorage/GoogleDrive-rhys.jones@e2s.energy/My Drive/ev\n",
      "Price optimisation\n"
     ]
    },
    {
     "data": {
      "text/html": [
       "<div>\n",
       "<style scoped>\n",
       "    .dataframe tbody tr th:only-of-type {\n",
       "        vertical-align: middle;\n",
       "    }\n",
       "\n",
       "    .dataframe tbody tr th {\n",
       "        vertical-align: top;\n",
       "    }\n",
       "\n",
       "    .dataframe thead th {\n",
       "        text-align: right;\n",
       "    }\n",
       "</style>\n",
       "<table border=\"1\" class=\"dataframe\">\n",
       "  <thead>\n",
       "    <tr style=\"text-align: right;\">\n",
       "      <th></th>\n",
       "      <th></th>\n",
       "      <th>Basic optimisation</th>\n",
       "      <th>Current system</th>\n",
       "      <th>Emission optimisation</th>\n",
       "      <th>Price optimisation</th>\n",
       "    </tr>\n",
       "    <tr>\n",
       "      <th>Parameters</th>\n",
       "      <th>Units</th>\n",
       "      <th></th>\n",
       "      <th></th>\n",
       "      <th></th>\n",
       "      <th></th>\n",
       "    </tr>\n",
       "  </thead>\n",
       "  <tbody>\n",
       "    <tr>\n",
       "      <th>site_import_electricity_demand</th>\n",
       "      <th>kWh</th>\n",
       "      <td>271299.0</td>\n",
       "      <td>208905.0</td>\n",
       "      <td>271299.0</td>\n",
       "      <td>271299.0</td>\n",
       "    </tr>\n",
       "    <tr>\n",
       "      <th>site_export_electricity_demand</th>\n",
       "      <th>kWh</th>\n",
       "      <td>0.0</td>\n",
       "      <td>0.0</td>\n",
       "      <td>0.0</td>\n",
       "      <td>0.0</td>\n",
       "    </tr>\n",
       "    <tr>\n",
       "      <th>electricity_generation</th>\n",
       "      <th>kWh</th>\n",
       "      <td>0.0</td>\n",
       "      <td>0.0</td>\n",
       "      <td>0.0</td>\n",
       "      <td>0.0</td>\n",
       "    </tr>\n",
       "    <tr>\n",
       "      <th>additional_site_electricity_demand</th>\n",
       "      <th>kWh</th>\n",
       "      <td>62394.0</td>\n",
       "      <td>0.0</td>\n",
       "      <td>62394.0</td>\n",
       "      <td>62394.0</td>\n",
       "    </tr>\n",
       "    <tr>\n",
       "      <th>initial_site_electricity_demand</th>\n",
       "      <th>kWh</th>\n",
       "      <td>208905.0</td>\n",
       "      <td>208905.0</td>\n",
       "      <td>208905.0</td>\n",
       "      <td>208905.0</td>\n",
       "    </tr>\n",
       "    <tr>\n",
       "      <th>self-consumed_electricity</th>\n",
       "      <th>kWh</th>\n",
       "      <td>0.0</td>\n",
       "      <td>0.0</td>\n",
       "      <td>0.0</td>\n",
       "      <td>0.0</td>\n",
       "    </tr>\n",
       "    <tr>\n",
       "      <th>import_electricity_costs</th>\n",
       "      <th>GBP</th>\n",
       "      <td>54981.0</td>\n",
       "      <td>42491.0</td>\n",
       "      <td>55480.0</td>\n",
       "      <td>54981.0</td>\n",
       "    </tr>\n",
       "    <tr>\n",
       "      <th>export_electricity_revenues</th>\n",
       "      <th>GBP</th>\n",
       "      <td>-0.0</td>\n",
       "      <td>-0.0</td>\n",
       "      <td>-0.0</td>\n",
       "      <td>-0.0</td>\n",
       "    </tr>\n",
       "    <tr>\n",
       "      <th>import_electricity_savings</th>\n",
       "      <th>GBP</th>\n",
       "      <td>0.0</td>\n",
       "      <td>0.0</td>\n",
       "      <td>0.0</td>\n",
       "      <td>0.0</td>\n",
       "    </tr>\n",
       "    <tr>\n",
       "      <th>ghg_emissions_import_electricity</th>\n",
       "      <th>kgCO2e</th>\n",
       "      <td>51896748.0</td>\n",
       "      <td>40097074.0</td>\n",
       "      <td>51295462.0</td>\n",
       "      <td>52050520.0</td>\n",
       "    </tr>\n",
       "    <tr>\n",
       "      <th>site_ghg_emissions_displaced</th>\n",
       "      <th>kgCO2e</th>\n",
       "      <td>0.0</td>\n",
       "      <td>0.0</td>\n",
       "      <td>0.0</td>\n",
       "      <td>0.0</td>\n",
       "    </tr>\n",
       "    <tr>\n",
       "      <th>total_ghg_emissions_displaced</th>\n",
       "      <th>kgCO2e</th>\n",
       "      <td>0.0</td>\n",
       "      <td>0.0</td>\n",
       "      <td>0.0</td>\n",
       "      <td>0.0</td>\n",
       "    </tr>\n",
       "    <tr>\n",
       "      <th>peak_site_import_electricity</th>\n",
       "      <th>kW</th>\n",
       "      <td>150.0</td>\n",
       "      <td>80.0</td>\n",
       "      <td>150.0</td>\n",
       "      <td>150.0</td>\n",
       "    </tr>\n",
       "    <tr>\n",
       "      <th>peak_site_export_electricity</th>\n",
       "      <th>kW</th>\n",
       "      <td>-0.0</td>\n",
       "      <td>-0.0</td>\n",
       "      <td>-0.0</td>\n",
       "      <td>-0.0</td>\n",
       "    </tr>\n",
       "    <tr>\n",
       "      <th>operational_and_maintenance_expenditures</th>\n",
       "      <th>GBP</th>\n",
       "      <td>56181.0</td>\n",
       "      <td>42491.0</td>\n",
       "      <td>56680.0</td>\n",
       "      <td>56181.0</td>\n",
       "    </tr>\n",
       "    <tr>\n",
       "      <th>EV_capital_expenditures</th>\n",
       "      <th>GBP</th>\n",
       "      <td>120000.0</td>\n",
       "      <td>NaN</td>\n",
       "      <td>120000.0</td>\n",
       "      <td>120000.0</td>\n",
       "    </tr>\n",
       "    <tr>\n",
       "      <th>EV_capacity_installed</th>\n",
       "      <th>kW</th>\n",
       "      <td>220.0</td>\n",
       "      <td>NaN</td>\n",
       "      <td>220.0</td>\n",
       "      <td>220.0</td>\n",
       "    </tr>\n",
       "  </tbody>\n",
       "</table>\n",
       "</div>"
      ],
      "text/plain": [
       "                                                 Basic optimisation  \\\n",
       "Parameters                               Units                        \n",
       "site_import_electricity_demand           kWh               271299.0   \n",
       "site_export_electricity_demand           kWh                    0.0   \n",
       "electricity_generation                   kWh                    0.0   \n",
       "additional_site_electricity_demand       kWh                62394.0   \n",
       "initial_site_electricity_demand          kWh               208905.0   \n",
       "self-consumed_electricity                kWh                    0.0   \n",
       "import_electricity_costs                 GBP                54981.0   \n",
       "export_electricity_revenues              GBP                   -0.0   \n",
       "import_electricity_savings               GBP                    0.0   \n",
       "ghg_emissions_import_electricity         kgCO2e          51896748.0   \n",
       "site_ghg_emissions_displaced             kgCO2e                 0.0   \n",
       "total_ghg_emissions_displaced            kgCO2e                 0.0   \n",
       "peak_site_import_electricity             kW                   150.0   \n",
       "peak_site_export_electricity             kW                    -0.0   \n",
       "operational_and_maintenance_expenditures GBP                56181.0   \n",
       "EV_capital_expenditures                  GBP               120000.0   \n",
       "EV_capacity_installed                    kW                   220.0   \n",
       "\n",
       "                                                 Current system  \\\n",
       "Parameters                               Units                    \n",
       "site_import_electricity_demand           kWh           208905.0   \n",
       "site_export_electricity_demand           kWh                0.0   \n",
       "electricity_generation                   kWh                0.0   \n",
       "additional_site_electricity_demand       kWh                0.0   \n",
       "initial_site_electricity_demand          kWh           208905.0   \n",
       "self-consumed_electricity                kWh                0.0   \n",
       "import_electricity_costs                 GBP            42491.0   \n",
       "export_electricity_revenues              GBP               -0.0   \n",
       "import_electricity_savings               GBP                0.0   \n",
       "ghg_emissions_import_electricity         kgCO2e      40097074.0   \n",
       "site_ghg_emissions_displaced             kgCO2e             0.0   \n",
       "total_ghg_emissions_displaced            kgCO2e             0.0   \n",
       "peak_site_import_electricity             kW                80.0   \n",
       "peak_site_export_electricity             kW                -0.0   \n",
       "operational_and_maintenance_expenditures GBP            42491.0   \n",
       "EV_capital_expenditures                  GBP                NaN   \n",
       "EV_capacity_installed                    kW                 NaN   \n",
       "\n",
       "                                                 Emission optimisation  \\\n",
       "Parameters                               Units                           \n",
       "site_import_electricity_demand           kWh                  271299.0   \n",
       "site_export_electricity_demand           kWh                       0.0   \n",
       "electricity_generation                   kWh                       0.0   \n",
       "additional_site_electricity_demand       kWh                   62394.0   \n",
       "initial_site_electricity_demand          kWh                  208905.0   \n",
       "self-consumed_electricity                kWh                       0.0   \n",
       "import_electricity_costs                 GBP                   55480.0   \n",
       "export_electricity_revenues              GBP                      -0.0   \n",
       "import_electricity_savings               GBP                       0.0   \n",
       "ghg_emissions_import_electricity         kgCO2e             51295462.0   \n",
       "site_ghg_emissions_displaced             kgCO2e                    0.0   \n",
       "total_ghg_emissions_displaced            kgCO2e                    0.0   \n",
       "peak_site_import_electricity             kW                      150.0   \n",
       "peak_site_export_electricity             kW                       -0.0   \n",
       "operational_and_maintenance_expenditures GBP                   56680.0   \n",
       "EV_capital_expenditures                  GBP                  120000.0   \n",
       "EV_capacity_installed                    kW                      220.0   \n",
       "\n",
       "                                                 Price optimisation  \n",
       "Parameters                               Units                       \n",
       "site_import_electricity_demand           kWh               271299.0  \n",
       "site_export_electricity_demand           kWh                    0.0  \n",
       "electricity_generation                   kWh                    0.0  \n",
       "additional_site_electricity_demand       kWh                62394.0  \n",
       "initial_site_electricity_demand          kWh               208905.0  \n",
       "self-consumed_electricity                kWh                    0.0  \n",
       "import_electricity_costs                 GBP                54981.0  \n",
       "export_electricity_revenues              GBP                   -0.0  \n",
       "import_electricity_savings               GBP                    0.0  \n",
       "ghg_emissions_import_electricity         kgCO2e          52050520.0  \n",
       "site_ghg_emissions_displaced             kgCO2e                 0.0  \n",
       "total_ghg_emissions_displaced            kgCO2e                 0.0  \n",
       "peak_site_import_electricity             kW                   150.0  \n",
       "peak_site_export_electricity             kW                    -0.0  \n",
       "operational_and_maintenance_expenditures GBP                56181.0  \n",
       "EV_capital_expenditures                  GBP               120000.0  \n",
       "EV_capacity_installed                    kW                   220.0  "
      ]
     },
     "execution_count": 41,
     "metadata": {},
     "output_type": "execute_result"
    }
   ],
   "source": [
    "hh_location: location.GeoLocation = location.GeoLocation(\n",
    "    name='Test Site',\n",
    "    latitude=51.555371,\n",
    "    longitude=-1.441886,\n",
    "    altitude=10,\n",
    "    timezone='UTC')\n",
    "\n",
    "site_data_recorder = bricks.TimeserieRecorder(dummy_site_demand.index,\n",
    "                                              list(enums.SiteData))\n",
    "dict_assets = {}\n",
    "\n",
    "list_assets = [\n",
    "    [], [dict_of_sites['Basic']], [dict_of_sites['Emission']],\n",
    "    [dict_of_sites['Price']]\n",
    "]\n",
    "list_scenario_names = [\"Current system\", \"Basic optimisation\", \"Emission optimisation\", \"Price optimisation\"]\n",
    "list_scenarios = []\n",
    "for ii, temp_assets in enumerate(list_assets):\n",
    "  temp_name = list_scenario_names[ii]\n",
    "  temp_model = site.Site(temp_name, hh_location, temp_assets,\n",
    "                         dummy_site_demand)\n",
    "  site_energy_demand = temp_model.export_results()\n",
    "  print(temp_name)\n",
    "  temp_scenario = scenario.Scenario(temp_name,\n",
    "                                    temp_model,\n",
    "                                    import_electricity_prices=dummy_prices,\n",
    "                                    import_electricity_emission_factor=dummy_carbon,\n",
    "                                    export_electricity_prices=pd.DataFrame())\n",
    "  list_scenarios.append(temp_scenario)\n",
    "ref_scenario = list_scenarios[0]\n",
    "comparison_scenarios = comparison.ScenarioComparison(ref_scenario, list_scenarios)\n",
    "\n",
    "comparison_scenarios.summary_results.round(0)"
   ]
  },
  {
   "cell_type": "code",
   "execution_count": null,
   "metadata": {},
   "outputs": [],
   "source": []
  }
 ],
 "metadata": {
  "kernelspec": {
   "display_name": "bender-NYHCMS9_-py3.11",
   "language": "python",
   "name": "python3"
  },
  "language_info": {
   "codemirror_mode": {
    "name": "ipython",
    "version": 3
   },
   "file_extension": ".py",
   "mimetype": "text/x-python",
   "name": "python",
   "nbconvert_exporter": "python",
   "pygments_lexer": "ipython3",
   "version": "3.11.1"
  },
  "orig_nbformat": 4
 },
 "nbformat": 4,
 "nbformat_minor": 2
}
